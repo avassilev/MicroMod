{
 "cells": [
  {
   "cell_type": "code",
   "execution_count": 1,
   "id": "b90b9cd8-bce1-456a-9c6b-376fddfb336b",
   "metadata": {},
   "outputs": [],
   "source": [
    "# pip install pygambit\n",
    "import pygambit as gbt\n",
    "import numpy as np"
   ]
  },
  {
   "cell_type": "markdown",
   "id": "de97d979-9cf2-4d09-986f-3e4249f0fa23",
   "metadata": {},
   "source": [
    "# Guided exercise"
   ]
  },
  {
   "cell_type": "code",
   "execution_count": 2,
   "id": "66c17bf3-158c-4e22-ae6e-426f87b6d8f7",
   "metadata": {},
   "outputs": [],
   "source": [
    "p1 = np.array([[5,1,1],[1,5,5]])\n",
    "p2 = np.array([[5,1,0],[1,5,0]])"
   ]
  },
  {
   "cell_type": "code",
   "execution_count": 3,
   "id": "9ed8497d-6ee2-47ac-b4ad-1b64b31ec82b",
   "metadata": {},
   "outputs": [],
   "source": [
    "g = gbt.Game.from_arrays(p1,p2)"
   ]
  },
  {
   "cell_type": "code",
   "execution_count": 4,
   "id": "678f8d60-a316-46ac-bb11-f0a45cb9bde3",
   "metadata": {},
   "outputs": [],
   "source": [
    "g.title = \"Game from the guided exercise\""
   ]
  },
  {
   "cell_type": "code",
   "execution_count": 5,
   "id": "3abd3be0-b531-4d5c-a931-5cf08224f6bc",
   "metadata": {},
   "outputs": [],
   "source": [
    "g.players[0].label = \"Player 1\"\n",
    "g.players[1].label = \"Player 2\""
   ]
  },
  {
   "cell_type": "code",
   "execution_count": 6,
   "id": "869bb78d-7161-4750-b5a4-9c88538e191e",
   "metadata": {},
   "outputs": [
    {
     "data": {
      "text/html": [
       "<center><h1>Game from the guided exercise</h1></center>\n",
       "<table><tr><td></td><td align=center><b>1</b></td><td align=center><b>2</b></td><td align=center><b>3</b></td></tr><tr><td align=center><b>1</b></td><td align=center>5,5</td><td align=center>1,1</td><td align=center>1,0</td></tr><tr><td align=center><b>2</b></td><td align=center>1,1</td><td align=center>5,5</td><td align=center>5,0</td></tr></table>\n"
      ],
      "text/plain": [
       "Game(title='Game from the guided exercise')"
      ]
     },
     "execution_count": 6,
     "metadata": {},
     "output_type": "execute_result"
    }
   ],
   "source": [
    "g"
   ]
  },
  {
   "cell_type": "code",
   "execution_count": 7,
   "id": "6ce8c56d-20bc-4778-82bb-126afe820aef",
   "metadata": {},
   "outputs": [
    {
     "name": "stdout",
     "output_type": "stream",
     "text": [
      "Strategy(player=Player(game=Game(title='Game from the guided exercise'), label='Player 1'), label='1')\n",
      "Strategy(player=Player(game=Game(title='Game from the guided exercise'), label='Player 1'), label='2')\n"
     ]
    }
   ],
   "source": [
    "for s in g.players[0].strategies:\n",
    "    print(s)"
   ]
  },
  {
   "cell_type": "code",
   "execution_count": 8,
   "id": "f07b9868-247c-484f-9ff0-a1eb046bf5ec",
   "metadata": {},
   "outputs": [
    {
     "name": "stdout",
     "output_type": "stream",
     "text": [
      "Strategy(player=Player(game=Game(title='Game from the guided exercise'), label='Player 1'), label='1')\n",
      "Strategy(player=Player(game=Game(title='Game from the guided exercise'), label='Player 1'), label='2')\n",
      "Strategy(player=Player(game=Game(title='Game from the guided exercise'), label='Player 2'), label='1')\n",
      "Strategy(player=Player(game=Game(title='Game from the guided exercise'), label='Player 2'), label='2')\n",
      "Strategy(player=Player(game=Game(title='Game from the guided exercise'), label='Player 2'), label='3')\n"
     ]
    }
   ],
   "source": [
    "for s in g.support_profile():\n",
    "    print(s)"
   ]
  },
  {
   "cell_type": "code",
   "execution_count": 9,
   "id": "69a7bb14-a9a8-4742-ac79-78480435e1d8",
   "metadata": {},
   "outputs": [],
   "source": [
    "sp0 = g.support_profile()"
   ]
  },
  {
   "cell_type": "code",
   "execution_count": 10,
   "id": "6d09fb8b-9d8e-42c5-b051-11a90d73dba8",
   "metadata": {},
   "outputs": [
    {
     "name": "stdout",
     "output_type": "stream",
     "text": [
      "Strategy(player=Player(game=Game(title='Game from the guided exercise'), label='Player 1'), label='1')\n",
      "Strategy(player=Player(game=Game(title='Game from the guided exercise'), label='Player 1'), label='2')\n",
      "Strategy(player=Player(game=Game(title='Game from the guided exercise'), label='Player 2'), label='1')\n",
      "Strategy(player=Player(game=Game(title='Game from the guided exercise'), label='Player 2'), label='2')\n"
     ]
    }
   ],
   "source": [
    "sp1 = gbt.supports.undominated_strategies_solve(sp0)\n",
    "\n",
    "for s in sp1:\n",
    "    print(s)"
   ]
  },
  {
   "cell_type": "code",
   "execution_count": 11,
   "id": "178dd90c-ac2c-4b17-9e59-78404d32eccb",
   "metadata": {},
   "outputs": [
    {
     "name": "stdout",
     "output_type": "stream",
     "text": [
      "Strategy(player=Player(game=Game(title='Game from the guided exercise'), label='Player 1'), label='1')\n",
      "Strategy(player=Player(game=Game(title='Game from the guided exercise'), label='Player 1'), label='2')\n",
      "Strategy(player=Player(game=Game(title='Game from the guided exercise'), label='Player 2'), label='1')\n",
      "Strategy(player=Player(game=Game(title='Game from the guided exercise'), label='Player 2'), label='2')\n"
     ]
    }
   ],
   "source": [
    "sp2 = gbt.supports.undominated_strategies_solve(sp1)\n",
    "\n",
    "for s in sp2:\n",
    "    print(s)"
   ]
  },
  {
   "cell_type": "code",
   "execution_count": 12,
   "id": "fda42ab4-46c7-43c8-bef8-e4350fd5fd1d",
   "metadata": {},
   "outputs": [
    {
     "data": {
      "text/plain": [
       "True"
      ]
     },
     "execution_count": 12,
     "metadata": {},
     "output_type": "execute_result"
    }
   ],
   "source": [
    "sp2 == sp1"
   ]
  },
  {
   "cell_type": "code",
   "execution_count": 15,
   "id": "4bd86377-3591-47fb-ac5a-d322781bae15",
   "metadata": {},
   "outputs": [
    {
     "name": "stdout",
     "output_type": "stream",
     "text": [
      "Strategy(player=Player(game=Game(title='Game from the guided exercise'), label='Player 1'), label='1')\n",
      "Strategy(player=Player(game=Game(title='Game from the guided exercise'), label='Player 1'), label='2')\n",
      "Strategy(player=Player(game=Game(title='Game from the guided exercise'), label='Player 2'), label='1')\n",
      "Strategy(player=Player(game=Game(title='Game from the guided exercise'), label='Player 2'), label='2')\n"
     ]
    }
   ],
   "source": [
    "sp = g.support_profile()\n",
    "sp_old = None\n",
    "\n",
    "while sp != sp_old:\n",
    "    sp_old = sp\n",
    "    sp = gbt.supports.undominated_strategies_solve(sp)\n",
    "\n",
    "for s in sp:\n",
    "    print(s)"
   ]
  },
  {
   "cell_type": "markdown",
   "id": "dce23cc6-f04f-441d-975f-7cd98231408e",
   "metadata": {},
   "source": [
    "# Example 7"
   ]
  },
  {
   "cell_type": "code",
   "execution_count": 30,
   "id": "237675cf-d48d-452e-b815-f00d0e89b6d4",
   "metadata": {},
   "outputs": [
    {
     "data": {
      "text/html": [
       "<center><h1>Example 7</h1></center>\n",
       "<table><tr><td></td><td align=center><b>1</b></td><td align=center><b>2</b></td><td align=center><b>3</b></td></tr><tr><td align=center><b>1</b></td><td align=center>4,3</td><td align=center>5,1</td><td align=center>6,2</td></tr><tr><td align=center><b>2</b></td><td align=center>2,1</td><td align=center>8,4</td><td align=center>3,6</td></tr><tr><td align=center><b>3</b></td><td align=center>3,0</td><td align=center>9,6</td><td align=center>2,8</td></tr></table>\n"
      ],
      "text/plain": [
       "Game(title='Example 7')"
      ]
     },
     "metadata": {},
     "output_type": "display_data"
    },
    {
     "name": "stdout",
     "output_type": "stream",
     "text": [
      "Player 1 --> Strategy 1\n",
      "Player 2 --> Strategy 1\n"
     ]
    }
   ],
   "source": [
    "p1 = np.array([[4,5,6],[2,8,3],[3,9,2]])\n",
    "p2 = np.array([[3,1,2],[1,4,6],[0,6,8]])\n",
    "\n",
    "g = gbt.Game.from_arrays(p1,p2)\n",
    "g.title = \"Example 7\"\n",
    "\n",
    "display(g)\n",
    "\n",
    "sp = g.support_profile()\n",
    "sp_old = None\n",
    "\n",
    "while sp != sp_old:\n",
    "    sp_old = sp\n",
    "    sp = gbt.supports.undominated_strategies_solve(sp)\n",
    "\n",
    "for s in sp:\n",
    "    print(f\"Player {s.player.label} --> Strategy {s.label}\")"
   ]
  },
  {
   "cell_type": "markdown",
   "id": "d1349d24-962a-4fbf-9ca9-44517cdc0a1f",
   "metadata": {},
   "source": [
    "# Exercise on iterated elimination of dominated strategies"
   ]
  },
  {
   "cell_type": "code",
   "execution_count": 35,
   "id": "ec92c2ae-6371-4ca5-8563-4ea10c403e6c",
   "metadata": {
    "scrolled": true
   },
   "outputs": [
    {
     "data": {
      "text/html": [
       "<center><h1></h1></center>\n",
       "<table><tr><td></td><td align=center><b>1</b></td><td align=center><b>2</b></td><td align=center><b>3</b></td></tr><tr><td align=center><b>1</b></td><td align=center>1,0</td><td align=center>1,2</td><td align=center>0,1</td></tr><tr><td align=center><b>2</b></td><td align=center>0,3</td><td align=center>0,1</td><td align=center>2,0</td></tr></table>\n"
      ],
      "text/plain": [
       "Game(id=970182992"
      ]
     },
     "metadata": {},
     "output_type": "display_data"
    },
    {
     "name": "stdout",
     "output_type": "stream",
     "text": [
      "Player 1 --> Strategy 1\n",
      "Player 2 --> Strategy 2\n"
     ]
    }
   ],
   "source": [
    "p1 = np.array([[1,1,0],[0,0,2],])\n",
    "p2 = np.array([[0,2,1],[3,1,0],])\n",
    "\n",
    "g = gbt.Game.from_arrays(p1,p2)\n",
    "g.title = \"\" # leave it empty to remove clutter\n",
    "\n",
    "display(g)\n",
    "\n",
    "sp = g.support_profile()\n",
    "sp_old = None\n",
    "\n",
    "while sp != sp_old:\n",
    "    sp_old = sp\n",
    "    sp = gbt.supports.undominated_strategies_solve(sp)\n",
    "\n",
    "for s in sp:\n",
    "    print(f\"Player {s.player.label} --> Strategy {s.label}\")\n"
   ]
  },
  {
   "cell_type": "markdown",
   "id": "f5960886-59db-489c-9513-0db4ae2507fc",
   "metadata": {},
   "source": [
    "# Example 8"
   ]
  },
  {
   "cell_type": "code",
   "execution_count": 42,
   "id": "26ff6a59-e150-4679-9c0f-ec5bd9038c08",
   "metadata": {},
   "outputs": [
    {
     "data": {
      "text/plain": [
       "NashComputationResult(method='gnm', rational=False, use_strategic=True, equilibria=[[[1.0, 0.0], [1.0, 0.0]]], parameters={'perturbation': [[1.0, 0.0], [1.0, 0.0]], 'end_lambda': -10.0, 'steps': 100, 'local_newton_interval': 3, 'local_newton_maxits': 10})"
      ]
     },
     "execution_count": 42,
     "metadata": {},
     "output_type": "execute_result"
    }
   ],
   "source": [
    "p1 = np.array([[5,1],[1,0],])\n",
    "p2 = np.array([[5,1],[1,0],])\n",
    "\n",
    "g = gbt.Game.from_arrays(p1,p2)\n",
    "\n",
    "NE = gbt.nash.gnm_solve(g) # this is the method for games in strategic form\n",
    "\n",
    "NE"
   ]
  },
  {
   "cell_type": "code",
   "execution_count": 43,
   "id": "99e08671-07a4-4364-9762-584c4cec00c6",
   "metadata": {},
   "outputs": [
    {
     "data": {
      "text/plain": [
       "[[[1.0, 0.0], [1.0, 0.0]]]"
      ]
     },
     "execution_count": 43,
     "metadata": {},
     "output_type": "execute_result"
    }
   ],
   "source": [
    "NE.equilibria"
   ]
  },
  {
   "cell_type": "markdown",
   "id": "f1a01213-db1a-4d7e-a5ca-fc7dc7122d09",
   "metadata": {},
   "source": [
    "# Example 10"
   ]
  },
  {
   "cell_type": "code",
   "execution_count": 56,
   "id": "112596b6-118a-4c1f-b98b-3348aca75c16",
   "metadata": {},
   "outputs": [
    {
     "data": {
      "text/plain": [
       "[[[Rational(1, 1), Rational(0, 1)], [Rational(1, 1), Rational(0, 1)]],\n",
       " [[Rational(1, 1), Rational(0, 1)], [Rational(0, 1), Rational(1, 1)]]]"
      ]
     },
     "execution_count": 56,
     "metadata": {},
     "output_type": "execute_result"
    }
   ],
   "source": [
    "p1 = np.array([[2,2],[0,0],])\n",
    "p2 = np.array([[0,0],[2,2],])\n",
    "\n",
    "g = gbt.Game.from_arrays(p1,p2)\n",
    "\n",
    "# NE = gbt.nash.gnm_solve(g) # this presumably is a method appropriate for games in strategic form\n",
    "NE = gbt.nash.enummixed_solve(g)\n",
    "\n",
    "NE.equilibria"
   ]
  },
  {
   "cell_type": "code",
   "execution_count": 53,
   "id": "7d01bc91-04aa-4c08-8bd3-5da78e68f56d",
   "metadata": {},
   "outputs": [
    {
     "data": {
      "text/plain": [
       "[[[1.0, 0.0], [1.0, 0.0]]]"
      ]
     },
     "execution_count": 53,
     "metadata": {},
     "output_type": "execute_result"
    }
   ],
   "source": [
    "NE.equilibria"
   ]
  }
 ],
 "metadata": {
  "kernelspec": {
   "display_name": "Python 3 (ipykernel)",
   "language": "python",
   "name": "python3"
  },
  "language_info": {
   "codemirror_mode": {
    "name": "ipython",
    "version": 3
   },
   "file_extension": ".py",
   "mimetype": "text/x-python",
   "name": "python",
   "nbconvert_exporter": "python",
   "pygments_lexer": "ipython3",
   "version": "3.11.7"
  }
 },
 "nbformat": 4,
 "nbformat_minor": 5
}
